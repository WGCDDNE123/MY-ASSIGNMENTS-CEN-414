{
 "cells": [
  {
   "cell_type": "code",
   "execution_count": null,
   "id": "7a17c8a5-0820-4fbf-b4b0-299f8daf7ac5",
   "metadata": {},
   "outputs": [],
   "source": [
    "sentences= [\"I am blessed\", \"I am listening to you\", \"GOD IS GOOD\", \"I am improving\"]\n",
    "\n",
    "for i in sentences:\n",
    "    length = 0;\n",
    "    word_length = 1;\n",
    "    for j in 1:\n",
    "        length+=1;\n",
    "           if (j.isalnum() and  not(i[length-2].isalnum())):\n",
    "            word_length += 1\n",
    "    print(i, '\\nLength: ', length, '\\nWord Length: ', word_length)"
   ]
  }
 ],
 "metadata": {
  "kernelspec": {
   "display_name": "Python 3 (ipykernel)",
   "language": "python",
   "name": "python3"
  },
  "language_info": {
   "codemirror_mode": {
    "name": "ipython",
    "version": 3
   },
   "file_extension": ".py",
   "mimetype": "text/x-python",
   "name": "python",
   "nbconvert_exporter": "python",
   "pygments_lexer": "ipython3",
   "version": "3.10.5"
  }
 },
 "nbformat": 4,
 "nbformat_minor": 5
}
