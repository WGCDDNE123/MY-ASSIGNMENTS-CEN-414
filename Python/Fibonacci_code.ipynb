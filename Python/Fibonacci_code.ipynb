{
 "cells": [
  {
   "cell_type": "code",
   "execution_count": 1,
   "id": "14803ec9-8422-4119-a2fb-e2191fd9d83a",
   "metadata": {},
   "outputs": [
    {
     "name": "stdout",
     "output_type": "stream",
     "text": [
      "[0, 1, 1, 2, 3, 5, 8, 13, 21, 34, 55, 89, 144, 233, 377, 610, 987, 1597, 2584, 4181, 6765]\n"
     ]
    }
   ],
   "source": [
    "fibonacci_array = [0, 1]\n",
    "a = 0\n",
    "b = 1\n",
    "while ((a+b)<10000):\n",
    "    a, b = b, a+b\n",
    "    fibonacci_array.append(b)\n",
    "    \n",
    "print(fibonacci_array)"
   ]
  },
  {
   "cell_type": "code",
   "execution_count": null,
   "id": "0c94baf7-f60c-4218-9703-4efb604933f7",
   "metadata": {},
   "outputs": [],
   "source": []
  }
 ],
 "metadata": {
  "kernelspec": {
   "display_name": "Python 3 (ipykernel)",
   "language": "python",
   "name": "python3"
  },
  "language_info": {
   "codemirror_mode": {
    "name": "ipython",
    "version": 3
   },
   "file_extension": ".py",
   "mimetype": "text/x-python",
   "name": "python",
   "nbconvert_exporter": "python",
   "pygments_lexer": "ipython3",
   "version": "3.10.5"
  }
 },
 "nbformat": 4,
 "nbformat_minor": 5
}
